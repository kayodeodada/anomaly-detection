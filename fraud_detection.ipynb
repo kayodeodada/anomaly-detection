{
 "cells": [
  {
   "cell_type": "code",
   "execution_count": 5,
   "id": "3d320f56-f619-4bac-bec4-e19f7bd75ef5",
   "metadata": {},
   "outputs": [],
   "source": [
    "import pandas as pd"
   ]
  },
  {
   "cell_type": "code",
   "execution_count": 6,
   "id": "81291545-c0f4-4cbd-8025-bd9edee83cfa",
   "metadata": {},
   "outputs": [],
   "source": [
    "df = pd.read_csv(\"data/credit_card_transactions.csv\")"
   ]
  },
  {
   "cell_type": "code",
   "execution_count": 37,
   "id": "e5e01eda-1e5d-4c97-824e-2e1de72f6932",
   "metadata": {},
   "outputs": [
    {
     "data": {
      "text/plain": [
       "876"
      ]
     },
     "execution_count": 37,
     "metadata": {},
     "output_type": "execute_result"
    }
   ],
   "source": [
    "df['cc_num'].nunique()"
   ]
  },
  {
   "cell_type": "code",
   "execution_count": 35,
   "id": "248db00d-c683-4477-8ae8-225b3c393bc4",
   "metadata": {},
   "outputs": [
    {
     "name": "stdout",
     "output_type": "stream",
     "text": [
      "<class 'pandas.core.frame.DataFrame'>\n",
      "RangeIndex: 5000 entries, 0 to 4999\n",
      "Data columns (total 24 columns):\n",
      " #   Column                 Non-Null Count  Dtype  \n",
      "---  ------                 --------------  -----  \n",
      " 0   Unnamed: 0             5000 non-null   int64  \n",
      " 1   trans_date_trans_time  5000 non-null   object \n",
      " 2   cc_num                 5000 non-null   int64  \n",
      " 3   merchant               5000 non-null   object \n",
      " 4   category               5000 non-null   object \n",
      " 5   amt                    5000 non-null   float64\n",
      " 6   first                  5000 non-null   object \n",
      " 7   last                   5000 non-null   object \n",
      " 8   gender                 5000 non-null   object \n",
      " 9   street                 5000 non-null   object \n",
      " 10  city                   5000 non-null   object \n",
      " 11  state                  5000 non-null   object \n",
      " 12  zip                    5000 non-null   int64  \n",
      " 13  lat                    5000 non-null   float64\n",
      " 14  long                   5000 non-null   float64\n",
      " 15  city_pop               5000 non-null   int64  \n",
      " 16  job                    5000 non-null   object \n",
      " 17  dob                    5000 non-null   object \n",
      " 18  trans_num              5000 non-null   object \n",
      " 19  unix_time              5000 non-null   int64  \n",
      " 20  merch_lat              5000 non-null   float64\n",
      " 21  merch_long             5000 non-null   float64\n",
      " 22  is_fraud               5000 non-null   int64  \n",
      " 23  merch_zipcode          4214 non-null   float64\n",
      "dtypes: float64(6), int64(6), object(12)\n",
      "memory usage: 937.6+ KB\n"
     ]
    }
   ],
   "source": [
    "df.info()"
   ]
  },
  {
   "cell_type": "code",
   "execution_count": 39,
   "id": "c25ea921-489e-40bc-aca7-1e09caa5c01f",
   "metadata": {},
   "outputs": [
    {
     "data": {
      "text/plain": [
       "is_fraud\n",
       "0    4978\n",
       "1      22\n",
       "Name: count, dtype: int64"
      ]
     },
     "execution_count": 39,
     "metadata": {},
     "output_type": "execute_result"
    }
   ],
   "source": [
    "df['is_fraud'].value_counts()"
   ]
  }
 ],
 "metadata": {
  "kernelspec": {
   "display_name": "Python 3 (ipykernel)",
   "language": "python",
   "name": "python3"
  },
  "language_info": {
   "codemirror_mode": {
    "name": "ipython",
    "version": 3
   },
   "file_extension": ".py",
   "mimetype": "text/x-python",
   "name": "python",
   "nbconvert_exporter": "python",
   "pygments_lexer": "ipython3",
   "version": "3.12.4"
  }
 },
 "nbformat": 4,
 "nbformat_minor": 5
}
